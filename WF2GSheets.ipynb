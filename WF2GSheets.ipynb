{
 "cells": [
  {
   "attachments": {},
   "cell_type": "markdown",
   "metadata": {},
   "source": [
    "# Basic setup"
   ]
  },
  {
   "cell_type": "code",
   "execution_count": 14,
   "metadata": {},
   "outputs": [],
   "source": [
    "import gspread\n",
    "import pandas as pd\n",
    "import os\n",
    "\n",
    "# Write there your directory,\n",
    "# for credentials and CSV export.\n",
    "# It's /sensitive/ by default.\n",
    "directory = 'sensitive/'\n",
    "\n",
    "# WARNING ACHTUNG ВНИМАНИЕ\n",
    "# Don't let this folder get synced\n",
    "# else it would leak your credentials\n",
    "# and your users' data.\n",
    "\n",
    "# Put there your Google Sheets table's name\n",
    "table_name = ''"
   ]
  },
  {
   "attachments": {},
   "cell_type": "markdown",
   "metadata": {},
   "source": [
    "# Import CSV export and credentials"
   ]
  },
  {
   "cell_type": "code",
   "execution_count": 15,
   "metadata": {},
   "outputs": [
    {
     "name": "stdout",
     "output_type": "stream",
     "text": [
      "loaded: sensitive/фестиваль-авторской-песни-им-алексан-weforms-entries-1701780626.csv\n",
      "loaded: sensitive/gordeevtable-626b09041d92.json\n"
     ]
    }
   ],
   "source": [
    "# It scans all files in that folder\n",
    "# and pick the first match by extension\n",
    "csv_name = ''\n",
    "files = os.listdir(directory)\n",
    "\n",
    "for i in files:\n",
    "    if i[-3:] == str('csv'):\n",
    "        csv_name = directory+i\n",
    "        break\n",
    "print('loaded:', csv_name)\n",
    "\n",
    "json_name = ''\n",
    "for i in files:\n",
    "    if i[-4:] == str('json'):\n",
    "        json_name = directory+i\n",
    "        break\n",
    "print('loaded:', json_name)"
   ]
  },
  {
   "attachments": {},
   "cell_type": "markdown",
   "metadata": {},
   "source": [
    "# Getting tables together"
   ]
  },
  {
   "cell_type": "code",
   "execution_count": 16,
   "metadata": {},
   "outputs": [
    {
     "name": "stdout",
     "output_type": "stream",
     "text": [
      "# of strings in GSS:  5\n",
      "# of strings in CSV:  3\n"
     ]
    }
   ],
   "source": [
    "# Pull Google Sheet (should be allowed)\n",
    "# to compare their lenght\n",
    "gc = gspread.service_account(filename=json_name)\n",
    "google_sheet = gc.open(\"VIII Гордеевский фестиваль\")\n",
    "# Notice that it points to sheet1. You can change it.\n",
    "google_df = pd.DataFrame(google_sheet.sheet1.get_all_values())\n",
    "google_len = len(google_sheet.sheet1.col_values(1))-1\n",
    "\n",
    "# Set the first row from GS as column names\n",
    "google_df.columns = google_df.iloc[0]\n",
    "google_df = google_df[1:]\n",
    "\n",
    "# Open CSV to compare their lenght\n",
    "csv_df = pd.read_csv(csv_name)\n",
    "csv_len = len(csv_df['Entry ID'])\n",
    "\n",
    "# Fill NaN and sort values to match\n",
    "# you can customize this value\n",
    "fill_with = '-'\n",
    "google_df, csv_df = google_df.fillna(fill_with), csv_df.fillna(fill_with)\n",
    "csv_df = csv_df.sort_values(by=['Entry ID'], ascending=True)\n",
    "\n",
    "# Calculate difference between their lenghtes\n",
    "print('# of strings in GSS: ', google_len)\n",
    "print('# of strings in CSV: ', csv_len)\n",
    "difference = csv_len - google_len"
   ]
  },
  {
   "attachments": {},
   "cell_type": "markdown",
   "metadata": {},
   "source": [
    "# Pushing new rows"
   ]
  },
  {
   "cell_type": "code",
   "execution_count": 26,
   "metadata": {},
   "outputs": [
    {
     "name": "stdout",
     "output_type": "stream",
     "text": [
      "Your CSV has less entries than Google Sheets. Wrong CSV?\n"
     ]
    }
   ],
   "source": [
    "# Check if columns' list and labels matches -\n",
    "# this script would stop otherwise\n",
    "if csv_df.columns.all() == google_df.columns.all():\n",
    "    columns_len = len(csv_df.columns.all())\n",
    "    row_len = google_len\n",
    "    # Check if our CSV has new rows over GSheets\n",
    "    if difference > 0:\n",
    "        print(\"They differ by \", difference, ' strings!')\n",
    "\n",
    "    # If yes, we push new lines to GSheets in a cycle\n",
    "        current_row = google_len + 1\n",
    "\n",
    "        for i in range(difference+1):\n",
    "            taken_row = csv_df.iloc[current_row-row_len].astype('str')\n",
    "            \n",
    "            # constructing an Excel-style pointer\n",
    "            diff_range = str('A' + str(current_row) + ':S' + str(current_row))\n",
    "            \n",
    "            # it double checks if'd write into an empty row\n",
    "            if google_sheet.sheet1.cell(current_row,1).value == None:\n",
    "                google_sheet.sheet1.update(values =\n",
    "                                        [taken_row.values.tolist()],\n",
    "                                        range_name = diff_range)\n",
    "            current_row+=1\n",
    "        print('Tables are in sync.')\n",
    "    \n",
    "    # If it's the oposite or they are equal,\n",
    "    # nothing would happen   \n",
    "    elif difference < 0:\n",
    "        print('Your CSV has less entries than Google Sheets. Wrong CSV?')\n",
    "    else: print('Tables are in sync. No actions needed.')\n",
    "\n",
    "else: print ('Column labels don\\'t match. Wrong tables?')"
   ]
  },
  {
   "cell_type": "code",
   "execution_count": 33,
   "metadata": {},
   "outputs": [
    {
     "ename": "IndexError",
     "evalue": "index 3 is out of bounds for axis 0 with size 3",
     "output_type": "error",
     "traceback": [
      "\u001b[1;31m---------------------------------------------------------------------------\u001b[0m",
      "\u001b[1;31mIndexError\u001b[0m                                Traceback (most recent call last)",
      "\u001b[1;32mc:\\SF\\WF2GSheets\\WF2GSheets\\WF2GSheets.ipynb Cell 9\u001b[0m in \u001b[0;36m<cell line: 33>\u001b[1;34m()\u001b[0m\n\u001b[0;32m     <a href='vscode-notebook-cell:/c%3A/SF/WF2GSheets/WF2GSheets/WF2GSheets.ipynb#X20sZmlsZQ%3D%3D?line=30'>31</a>\u001b[0m         widget\u001b[39m.\u001b[39mconfigure(text\u001b[39m=\u001b[39mvalue)\n\u001b[0;32m     <a href='vscode-notebook-cell:/c%3A/SF/WF2GSheets/WF2GSheets/WF2GSheets.ipynb#X20sZmlsZQ%3D%3D?line=32'>33</a>\u001b[0m \u001b[39mif\u001b[39;00m \u001b[39m__name__\u001b[39m \u001b[39m==\u001b[39m \u001b[39m\"\u001b[39m\u001b[39m__main__\u001b[39m\u001b[39m\"\u001b[39m:\n\u001b[1;32m---> <a href='vscode-notebook-cell:/c%3A/SF/WF2GSheets/WF2GSheets/WF2GSheets.ipynb#X20sZmlsZQ%3D%3D?line=33'>34</a>\u001b[0m     app \u001b[39m=\u001b[39m ExampleApp()\n\u001b[0;32m     <a href='vscode-notebook-cell:/c%3A/SF/WF2GSheets/WF2GSheets/WF2GSheets.ipynb#X20sZmlsZQ%3D%3D?line=34'>35</a>\u001b[0m     app\u001b[39m.\u001b[39mmainloop()\n",
      "\u001b[1;32mc:\\SF\\WF2GSheets\\WF2GSheets\\WF2GSheets.ipynb Cell 9\u001b[0m in \u001b[0;36mExampleApp.__init__\u001b[1;34m(self)\u001b[0m\n\u001b[0;32m      <a href='vscode-notebook-cell:/c%3A/SF/WF2GSheets/WF2GSheets/WF2GSheets.ipynb#X20sZmlsZQ%3D%3D?line=3'>4</a>\u001b[0m \u001b[39mdef\u001b[39;00m \u001b[39m__init__\u001b[39m(\u001b[39mself\u001b[39m):\n\u001b[0;32m      <a href='vscode-notebook-cell:/c%3A/SF/WF2GSheets/WF2GSheets/WF2GSheets.ipynb#X20sZmlsZQ%3D%3D?line=4'>5</a>\u001b[0m     tk\u001b[39m.\u001b[39mTk\u001b[39m.\u001b[39m\u001b[39m__init__\u001b[39m(\u001b[39mself\u001b[39m)\n\u001b[1;32m----> <a href='vscode-notebook-cell:/c%3A/SF/WF2GSheets/WF2GSheets/WF2GSheets.ipynb#X20sZmlsZQ%3D%3D?line=5'>6</a>\u001b[0m     t \u001b[39m=\u001b[39m SimpleTable(\u001b[39mself\u001b[39;49m, \u001b[39m10\u001b[39;49m,\u001b[39m2\u001b[39;49m)\n\u001b[0;32m      <a href='vscode-notebook-cell:/c%3A/SF/WF2GSheets/WF2GSheets/WF2GSheets.ipynb#X20sZmlsZQ%3D%3D?line=6'>7</a>\u001b[0m     t\u001b[39m.\u001b[39mpack(side\u001b[39m=\u001b[39m\u001b[39m\"\u001b[39m\u001b[39mtop\u001b[39m\u001b[39m\"\u001b[39m, fill\u001b[39m=\u001b[39m\u001b[39m\"\u001b[39m\u001b[39mx\u001b[39m\u001b[39m\"\u001b[39m)\n\u001b[0;32m      <a href='vscode-notebook-cell:/c%3A/SF/WF2GSheets/WF2GSheets/WF2GSheets.ipynb#X20sZmlsZQ%3D%3D?line=7'>8</a>\u001b[0m     t\u001b[39m.\u001b[39mset(\u001b[39m0\u001b[39m,\u001b[39m0\u001b[39m,\u001b[39m\"\u001b[39m\u001b[39mHello, world\u001b[39m\u001b[39m\"\u001b[39m)\n",
      "\u001b[1;32mc:\\SF\\WF2GSheets\\WF2GSheets\\WF2GSheets.ipynb Cell 9\u001b[0m in \u001b[0;36mSimpleTable.__init__\u001b[1;34m(self, parent, rows, columns)\u001b[0m\n\u001b[0;32m     <a href='vscode-notebook-cell:/c%3A/SF/WF2GSheets/WF2GSheets/WF2GSheets.ipynb#X20sZmlsZQ%3D%3D?line=16'>17</a>\u001b[0m current_row \u001b[39m=\u001b[39m []\n\u001b[0;32m     <a href='vscode-notebook-cell:/c%3A/SF/WF2GSheets/WF2GSheets/WF2GSheets.ipynb#X20sZmlsZQ%3D%3D?line=17'>18</a>\u001b[0m \u001b[39mfor\u001b[39;00m column \u001b[39min\u001b[39;00m \u001b[39mrange\u001b[39m(columns):\n\u001b[1;32m---> <a href='vscode-notebook-cell:/c%3A/SF/WF2GSheets/WF2GSheets/WF2GSheets.ipynb#X20sZmlsZQ%3D%3D?line=18'>19</a>\u001b[0m     label \u001b[39m=\u001b[39m tk\u001b[39m.\u001b[39mLabel(\u001b[39mself\u001b[39m, text\u001b[39m=\u001b[39mcsv_df\u001b[39m.\u001b[39;49miat[row, column], \n\u001b[0;32m     <a href='vscode-notebook-cell:/c%3A/SF/WF2GSheets/WF2GSheets/WF2GSheets.ipynb#X20sZmlsZQ%3D%3D?line=19'>20</a>\u001b[0m                      borderwidth\u001b[39m=\u001b[39m\u001b[39m0\u001b[39m, width\u001b[39m=\u001b[39m\u001b[39m10\u001b[39m)\n\u001b[0;32m     <a href='vscode-notebook-cell:/c%3A/SF/WF2GSheets/WF2GSheets/WF2GSheets.ipynb#X20sZmlsZQ%3D%3D?line=20'>21</a>\u001b[0m     label\u001b[39m.\u001b[39mgrid(row\u001b[39m=\u001b[39mrow, column\u001b[39m=\u001b[39mcolumn, sticky\u001b[39m=\u001b[39m\u001b[39m\"\u001b[39m\u001b[39mnsew\u001b[39m\u001b[39m\"\u001b[39m, padx\u001b[39m=\u001b[39m\u001b[39m1\u001b[39m, pady\u001b[39m=\u001b[39m\u001b[39m1\u001b[39m)\n\u001b[0;32m     <a href='vscode-notebook-cell:/c%3A/SF/WF2GSheets/WF2GSheets/WF2GSheets.ipynb#X20sZmlsZQ%3D%3D?line=21'>22</a>\u001b[0m     current_row\u001b[39m.\u001b[39mappend(label)\n",
      "File \u001b[1;32mc:\\Python\\Python39\\lib\\site-packages\\pandas\\core\\indexing.py:2440\u001b[0m, in \u001b[0;36m_ScalarAccessIndexer.__getitem__\u001b[1;34m(self, key)\u001b[0m\n\u001b[0;32m   2437\u001b[0m         \u001b[39mraise\u001b[39;00m \u001b[39mValueError\u001b[39;00m(\u001b[39m\"\u001b[39m\u001b[39mInvalid call for scalar access (getting)!\u001b[39m\u001b[39m\"\u001b[39m)\n\u001b[0;32m   2439\u001b[0m key \u001b[39m=\u001b[39m \u001b[39mself\u001b[39m\u001b[39m.\u001b[39m_convert_key(key)\n\u001b[1;32m-> 2440\u001b[0m \u001b[39mreturn\u001b[39;00m \u001b[39mself\u001b[39;49m\u001b[39m.\u001b[39;49mobj\u001b[39m.\u001b[39;49m_get_value(\u001b[39m*\u001b[39;49mkey, takeable\u001b[39m=\u001b[39;49m\u001b[39mself\u001b[39;49m\u001b[39m.\u001b[39;49m_takeable)\n",
      "File \u001b[1;32mc:\\Python\\Python39\\lib\\site-packages\\pandas\\core\\frame.py:4003\u001b[0m, in \u001b[0;36mDataFrame._get_value\u001b[1;34m(self, index, col, takeable)\u001b[0m\n\u001b[0;32m   4001\u001b[0m \u001b[39mif\u001b[39;00m takeable:\n\u001b[0;32m   4002\u001b[0m     series \u001b[39m=\u001b[39m \u001b[39mself\u001b[39m\u001b[39m.\u001b[39m_ixs(col, axis\u001b[39m=\u001b[39m\u001b[39m1\u001b[39m)\n\u001b[1;32m-> 4003\u001b[0m     \u001b[39mreturn\u001b[39;00m series\u001b[39m.\u001b[39;49m_values[index]\n\u001b[0;32m   4005\u001b[0m series \u001b[39m=\u001b[39m \u001b[39mself\u001b[39m\u001b[39m.\u001b[39m_get_item_cache(col)\n\u001b[0;32m   4006\u001b[0m engine \u001b[39m=\u001b[39m \u001b[39mself\u001b[39m\u001b[39m.\u001b[39mindex\u001b[39m.\u001b[39m_engine\n",
      "\u001b[1;31mIndexError\u001b[0m: index 3 is out of bounds for axis 0 with size 3"
     ]
    }
   ],
   "source": [
    "import tkinter as tk\n",
    "\n",
    "class ExampleApp(tk.Tk):\n",
    "    def __init__(self):\n",
    "        tk.Tk.__init__(self)\n",
    "        t = SimpleTable(self, 10,2)\n",
    "        t.pack(side=\"top\", fill=\"x\")\n",
    "        t.set(0,0,\"Hello, world\")\n",
    "\n",
    "class SimpleTable(tk.Frame):\n",
    "    def __init__(self, parent, rows=row_len, columns=columns_len):\n",
    "        # use black background so it \"peeks through\" to \n",
    "        # form grid lines\n",
    "        tk.Frame.__init__(self, parent, background=\"black\")\n",
    "        self._widgets = []\n",
    "        for row in range(rows):\n",
    "            current_row = []\n",
    "            for column in range(columns):\n",
    "                label = tk.Label(self, text=csv_df.iat[row, column], \n",
    "                                 borderwidth=0, width=10)\n",
    "                label.grid(row=row, column=column, sticky=\"nsew\", padx=1, pady=1)\n",
    "                current_row.append(label)\n",
    "            self._widgets.append(current_row)\n",
    "\n",
    "        for column in range(columns):\n",
    "            self.grid_columnconfigure(column, weight=1)\n",
    "\n",
    "\n",
    "    def set(self, row, column, value):\n",
    "        widget = self._widgets[row][column]\n",
    "        widget.configure(text=value)\n",
    "\n",
    "if __name__ == \"__main__\":\n",
    "    app = ExampleApp()\n",
    "    app.mainloop()"
   ]
  },
  {
   "cell_type": "code",
   "execution_count": 28,
   "metadata": {},
   "outputs": [],
   "source": [
    "# from tkinter import *\n",
    "# from pandastable import Table, TableModel\n",
    "\n",
    "# class TestApp(Frame):\n",
    "#         \"\"\"Basic test frame for the table\"\"\"\n",
    "#         def __init__(self, parent=None):\n",
    "#             self.parent = parent\n",
    "#             Frame.__init__(self)\n",
    "#             self.main = self.master\n",
    "#             self.main.geometry('600x400+200+100')\n",
    "#             self.main.title('WF2GSheets GUI')\n",
    "#             f = Frame(self.main)\n",
    "#             f.pack(fill=BOTH,expand=1)\n",
    "#             df = TableModel.getSampleData()\n",
    "#             self.table = pt = Table(f, dataframe=csv_df+google_df,\n",
    "#                                     showtoolbar=True, showstatusbar=True)\n",
    "#             pt.show()\n",
    "#             return\n",
    "\n",
    "# app = TestApp()\n",
    "# #launch the app\n",
    "# app.mainloop()"
   ]
  }
 ],
 "metadata": {
  "kernelspec": {
   "display_name": "Python 3",
   "language": "python",
   "name": "python3"
  },
  "language_info": {
   "codemirror_mode": {
    "name": "ipython",
    "version": 3
   },
   "file_extension": ".py",
   "mimetype": "text/x-python",
   "name": "python",
   "nbconvert_exporter": "python",
   "pygments_lexer": "ipython3",
   "version": "3.9.13"
  },
  "orig_nbformat": 4
 },
 "nbformat": 4,
 "nbformat_minor": 2
}
