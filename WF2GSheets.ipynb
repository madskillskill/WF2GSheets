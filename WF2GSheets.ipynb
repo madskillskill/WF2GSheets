{
 "cells": [
  {
   "cell_type": "code",
   "execution_count": 44,
   "metadata": {},
   "outputs": [
    {
     "name": "stdout",
     "output_type": "stream",
     "text": [
      "loaded: sensitive/mock-csv.csv\n",
      "loaded: sensitive/gordeevtable-999418dadd82.json\n",
      "# of strings in GSS:  0\n",
      "# of strings in CSV:  5\n",
      "They differ by  5  strings!\n"
     ]
    },
    {
     "name": "stderr",
     "output_type": "stream",
     "text": [
      "C:\\Users\\admin\\AppData\\Local\\Temp\\ipykernel_17284\\3083852811.py:72: DeprecationWarning: [Deprecated][in version 6.0.0]: Method signature's arguments 'range_name' and 'values' will change their order. We recommend using named arguments for minimal impact. In addition, the argument 'values' will be mandatory of type: 'List[List]'. (ex) Worksheet.update(values = [[]], range_name=) \n",
      "  google_sheet.sheet1.update(values =\n"
     ]
    },
    {
     "name": "stdout",
     "output_type": "stream",
     "text": [
      "Tables are in sync.\n"
     ]
    }
   ],
   "source": [
    "import gspread\n",
    "import pandas as pd\n",
    "import os\n",
    "\n",
    "# Write there your directory or it would\n",
    "# check the /sensitive/ folder.\n",
    "# WARNING ACHTUNG ВНИМАНИЕ\n",
    "# Don't let this folder get synced\n",
    "# or get it into .gitignore\n",
    "# else it would leak your credentials\n",
    "# and your user's data.\n",
    "directory = 'sensitive/'\n",
    "\n",
    "# Put there your GSheets table's name\n",
    "table_name = ''\n",
    "\n",
    "# Now it'd find json credentials\n",
    "# and a csv export file\n",
    "csv_name = ''\n",
    "files = os.listdir(directory)\n",
    "\n",
    "for i in files:\n",
    "    if i[-3:] == str('csv'):\n",
    "        csv_name = directory+i\n",
    "        break\n",
    "print('loaded:', csv_name)\n",
    "\n",
    "json_name = ''\n",
    "for i in files:\n",
    "    if i[-4:] == str('json'):\n",
    "        json_name = directory+i\n",
    "        break\n",
    "print('loaded:', json_name)\n",
    "\n",
    "# Pull Google Sheet (should be allowed)\n",
    "# to compare their lenght\n",
    "gc = gspread.service_account(filename=json_name)\n",
    "google_sheet = gc.open(\"VIII Гордеевский фестиваль\")\n",
    "# Notice that it points to sheet1. You can change it.\n",
    "google_df = pd.DataFrame(google_sheet.sheet1.get_all_values())\n",
    "google_len = len(google_sheet.sheet1.col_values(1))-1\n",
    "\n",
    "# Set the first row from GS as column names\n",
    "google_df.columns = google_df.iloc[0]\n",
    "google_df = google_df[1:]\n",
    "\n",
    "# Open CSV to compare their lenght\n",
    "csv_df = pd.read_csv(csv_name)\n",
    "csv_len = len(csv_df['Entry ID'])\n",
    "\n",
    "# Fill NaN and sort values to match\n",
    "# you can customize this value\n",
    "fill_with = '-'\n",
    "google_df, csv_df = google_df.fillna(fill_with), \n",
    "                                csv_df.fillna(fill_with)\n",
    "csv_df = csv_df.sort_values(by=['Entry ID'], ascending=True)\n",
    "\n",
    "# Calculate difference between their lenghtes\n",
    "print('# of strings in GSS: ', google_len)\n",
    "print('# of strings in CSV: ', csv_len)\n",
    "difference = csv_len - google_len\n",
    "\n",
    "# Check if columns list and labels matches\n",
    "if csv_df.columns.all() == google_df.columns.all():\n",
    "\n",
    "    # Check if len difference exists\n",
    "    if difference > 0:\n",
    "        print(\"They differ by \", difference, ' strings!')\n",
    "\n",
    "    # If yes, we push new lines to Google Sheets in a cycle\n",
    "        current_row = google_len + 1\n",
    "\n",
    "        for i in range(difference+1):\n",
    "            taken_row = csv_df.iloc[current_row-2].astype('str')\n",
    "            diff_range = str('A' + str(current_row) + ':S' + str(current_row))\n",
    "            if google_sheet.sheet1.cell(current_row,1).value == None:\n",
    "                google_sheet.sheet1.update(values =\n",
    "                                        [taken_row.values.tolist()],\n",
    "                                        range_name = diff_range)\n",
    "            current_row+=1\n",
    "        print('Tables are in sync.')\n",
    "        \n",
    "    elif difference < 0:\n",
    "        print('Your CSV has less entries than Google Sheets. Wrong SCV?')\n",
    "        \n",
    "    else: print('Tables are in sync. No actions needed.')\n",
    "    \n",
    "else: print ('Column labels don\\'t match. Wrong tables?')\n",
    "# End process positively"
   ]
  }
 ],
 "metadata": {
  "kernelspec": {
   "display_name": "Python 3",
   "language": "python",
   "name": "python3"
  },
  "language_info": {
   "codemirror_mode": {
    "name": "ipython",
    "version": 3
   },
   "file_extension": ".py",
   "mimetype": "text/x-python",
   "name": "python",
   "nbconvert_exporter": "python",
   "pygments_lexer": "ipython3",
   "version": "3.9.13"
  },
  "orig_nbformat": 4
 },
 "nbformat": 4,
 "nbformat_minor": 2
}
