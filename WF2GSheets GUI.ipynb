{
 "cells": [
  {
   "cell_type": "code",
   "execution_count": null,
   "metadata": {},
   "outputs": [],
   "source": [
    "import xlsxwriter \n",
    "xlsxwriter.utility.xl_col_to_name(10)"
   ]
  },
  {
   "cell_type": "code",
   "execution_count": null,
   "metadata": {},
   "outputs": [],
   "source": [
    "import tkinter as tk\n",
    "window = tk.Tk()\n",
    "button = tk.Button(\n",
    "    text=\"Click me!\",\n",
    "    width=25,\n",
    "    height=5,\n",
    "    bg=\"blue\",\n",
    "    fg=\"yellow\",\n",
    ")\n",
    "greeting = tk.Label(text=\"Hello, Tkinter\")\n",
    "greeting.pack()\n",
    "button.pack()\n",
    "\n",
    "window.mainloop()"
   ]
  },
  {
   "cell_type": "code",
   "execution_count": null,
   "metadata": {},
   "outputs": [],
   "source": [
    "\n",
    "from tkinter import Tk, Label\n",
    "root = Tk()\n",
    "w = Label(root, text=\"Hello, world!\")\n",
    "w.pack()\n",
    "root.mainloop()"
   ]
  },
  {
   "cell_type": "code",
   "execution_count": null,
   "metadata": {},
   "outputs": [],
   "source": [
    "# # Check if columns' list and labels matches -\n",
    "# # this script would stop otherwise\n",
    "# if csv_df.columns.all() == google_df.columns.all():\n",
    "    \n",
    "\n",
    "#     # Check if our CSV has new rows over GSheets\n",
    "#     if difference > 0:\n",
    "#         print(\"They differ by \", difference, ' strings!')\n",
    "\n",
    "#     # If yes, we push new lines to GSheets in a cycle\n",
    "#         current_row = google_len + 1\n",
    "\n",
    "#         for i in range(difference+1):\n",
    "#             taken_row = csv_df.iloc[current_row-2].astype('str')\n",
    "            \n",
    "#             # constructing an Excel-style pointer\n",
    "#             diff_range = str('A' + str(current_row) + ':S' + str(current_row))\n",
    "            \n",
    "#             # it double checks if'd write into an empty row\n",
    "#             if google_sheet.sheet1.cell(current_row,1).value == None:\n",
    "#                 google_sheet.sheet1.update(values =\n",
    "#                                         [taken_row.values.tolist()],\n",
    "#                                         range_name = diff_range)\n",
    "#             current_row+=1\n",
    "#         print('Tables are in sync.')\n",
    "    \n",
    "#     # If it's the oposite or they are equal,\n",
    "#     # nothing would happen   \n",
    "#     elif difference < 0:\n",
    "#         print('Your CSV has less entries than Google Sheets. Wrong SCV?')\n",
    "#     else: print('Tables are in sync. No actions needed.')\n",
    "\n",
    "# else: print ('Column labels don\\'t match. Wrong tables?')"
   ]
  }
 ],
 "metadata": {
  "language_info": {
   "name": "python"
  },
  "orig_nbformat": 4
 },
 "nbformat": 4,
 "nbformat_minor": 2
}
