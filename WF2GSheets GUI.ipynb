{
 "cells": [
  {
   "cell_type": "code",
   "execution_count": null,
   "metadata": {},
   "outputs": [],
   "source": []
  },
  {
   "cell_type": "markdown",
   "metadata": {},
   "source": [
    "# Basic setup"
   ]
  },
  {
   "cell_type": "code",
   "execution_count": 3,
   "metadata": {},
   "outputs": [],
   "source": [
    "import settings as sets\n",
    "import gspread\n",
    "import pandas as pd\n",
    "import os\n",
    "import tkinter as tk\n",
    "\n",
    "\n",
    "# Write there your directory,\n",
    "# for credentials and CSV export.\n",
    "# It's /sensitive/ by default.\n",
    "\n",
    "last_directory = sets.LAST_DIRECTORY\n",
    "\n",
    "# WARNING ACHTUNG ВНИМАНИЕ\n",
    "# Don't let this folder get synced\n",
    "# else it would leak your credentials\n",
    "# and your users' data.\n",
    "\n",
    "# Put there your Google Sheets table's name\n",
    "google_sheet_name = ''"
   ]
  },
  {
   "cell_type": "markdown",
   "metadata": {},
   "source": [
    "# Import CSV export and credentials"
   ]
  },
  {
   "cell_type": "code",
   "execution_count": 4,
   "metadata": {},
   "outputs": [
    {
     "ename": "NameError",
     "evalue": "name 'directory' is not defined",
     "output_type": "error",
     "traceback": [
      "\u001b[1;31m---------------------------------------------------------------------------\u001b[0m",
      "\u001b[1;31mNameError\u001b[0m                                 Traceback (most recent call last)",
      "\u001b[1;32mc:\\SF\\WF2GSheets\\WF2GSheets\\WF2GSheets GUI.ipynb Cell 5\u001b[0m in \u001b[0;36m<cell line: 6>\u001b[1;34m()\u001b[0m\n\u001b[0;32m      <a href='vscode-notebook-cell:/c%3A/SF/WF2GSheets/WF2GSheets/WF2GSheets%20GUI.ipynb#W4sZmlsZQ%3D%3D?line=3'>4</a>\u001b[0m     \u001b[39mpass\u001b[39;00m\n\u001b[0;32m      <a href='vscode-notebook-cell:/c%3A/SF/WF2GSheets/WF2GSheets/WF2GSheets%20GUI.ipynb#W4sZmlsZQ%3D%3D?line=4'>5</a>\u001b[0m csv_name \u001b[39m=\u001b[39m \u001b[39m'\u001b[39m\u001b[39m'\u001b[39m\n\u001b[1;32m----> <a href='vscode-notebook-cell:/c%3A/SF/WF2GSheets/WF2GSheets/WF2GSheets%20GUI.ipynb#W4sZmlsZQ%3D%3D?line=5'>6</a>\u001b[0m files \u001b[39m=\u001b[39m os\u001b[39m.\u001b[39mlistdir(directory)\n\u001b[0;32m      <a href='vscode-notebook-cell:/c%3A/SF/WF2GSheets/WF2GSheets/WF2GSheets%20GUI.ipynb#W4sZmlsZQ%3D%3D?line=7'>8</a>\u001b[0m \u001b[39mfor\u001b[39;00m i \u001b[39min\u001b[39;00m files:\n\u001b[0;32m      <a href='vscode-notebook-cell:/c%3A/SF/WF2GSheets/WF2GSheets/WF2GSheets%20GUI.ipynb#W4sZmlsZQ%3D%3D?line=8'>9</a>\u001b[0m     \u001b[39mif\u001b[39;00m i[\u001b[39m-\u001b[39m\u001b[39m3\u001b[39m:] \u001b[39m==\u001b[39m \u001b[39mstr\u001b[39m(\u001b[39m'\u001b[39m\u001b[39mcsv\u001b[39m\u001b[39m'\u001b[39m):\n",
      "\u001b[1;31mNameError\u001b[0m: name 'directory' is not defined"
     ]
    }
   ],
   "source": [
    "# It scans all files in that folder\n",
    "# and pick the first match by extension\n",
    "def import_user_files():\n",
    "    pass\n",
    "csv_name = ''\n",
    "files = os.listdir(directory)\n",
    "\n",
    "for i in files:\n",
    "    if i[-3:] == str('csv'):\n",
    "        csv_name = directory+i\n",
    "        break\n",
    "print('loaded:', csv_name)\n",
    "\n",
    "json_name = ''\n",
    "for i in files:\n",
    "    if i[-4:] == str('json'):\n",
    "        json_name = directory+i\n",
    "        break\n",
    "print('loaded:', json_name)"
   ]
  },
  {
   "cell_type": "markdown",
   "metadata": {},
   "source": [
    "# Getting tables together"
   ]
  },
  {
   "cell_type": "code",
   "execution_count": null,
   "metadata": {},
   "outputs": [
    {
     "name": "stdout",
     "output_type": "stream",
     "text": [
      "# of strings in GSS:  3\n",
      "# of strings in CSV:  3\n"
     ]
    }
   ],
   "source": [
    "# Pull Google Sheet (should be allowed)\n",
    "# to compare their lenght\n",
    "gc = gspread.service_account(filename=json_name)\n",
    "google_sheet = gc.open(google_sheet_name)\n",
    "# Notice that it points to sheet1. You can change it.\n",
    "google_df = pd.DataFrame(google_sheet.sheet1.get_all_values())\n",
    "google_len = len(google_sheet.sheet1.col_values(1))-1\n",
    "\n",
    "# Set the first row from GS as column names\n",
    "google_df.columns = google_df.iloc[0]\n",
    "google_df = google_df[1:]\n",
    "\n",
    "# Open CSV to compare their lenght\n",
    "csv_df = pd.read_csv(csv_name)\n",
    "csv_len = len(csv_df['Entry ID'])\n",
    "\n",
    "# Fill NaN and sort values to match\n",
    "# you can customize this value\n",
    "fill_with = '-'\n",
    "google_df, csv_df = google_df.fillna(fill_with), csv_df.fillna(fill_with)\n",
    "csv_df = csv_df.sort_values(by=['Entry ID'], ascending=True)\n",
    "\n",
    "# Calculate difference between their lenghtes\n",
    "print('# of strings in GSS: ', google_len)\n",
    "print('# of strings in CSV: ', csv_len)\n",
    "difference = csv_len - google_len"
   ]
  },
  {
   "attachments": {},
   "cell_type": "markdown",
   "metadata": {},
   "source": [
    "# Select rows"
   ]
  },
  {
   "cell_type": "code",
   "execution_count": null,
   "metadata": {},
   "outputs": [
    {
     "data": {
      "text/html": [
       "<div>\n",
       "<style scoped>\n",
       "    .dataframe tbody tr th:only-of-type {\n",
       "        vertical-align: middle;\n",
       "    }\n",
       "\n",
       "    .dataframe tbody tr th {\n",
       "        vertical-align: top;\n",
       "    }\n",
       "\n",
       "    .dataframe thead th {\n",
       "        text-align: right;\n",
       "    }\n",
       "</style>\n",
       "<table border=\"1\" class=\"dataframe\">\n",
       "  <thead>\n",
       "    <tr style=\"text-align: right;\">\n",
       "      <th></th>\n",
       "      <th>name</th>\n",
       "    </tr>\n",
       "  </thead>\n",
       "  <tbody>\n",
       "    <tr>\n",
       "      <th>0</th>\n",
       "      <td>Entry ID</td>\n",
       "    </tr>\n",
       "    <tr>\n",
       "      <th>1</th>\n",
       "      <td>Что для Вас есть авторская песня</td>\n",
       "    </tr>\n",
       "    <tr>\n",
       "      <th>2</th>\n",
       "      <td>Страна, город</td>\n",
       "    </tr>\n",
       "    <tr>\n",
       "      <th>3</th>\n",
       "      <td>Возраст</td>\n",
       "    </tr>\n",
       "    <tr>\n",
       "      <th>4</th>\n",
       "      <td>Место учёбы или работы</td>\n",
       "    </tr>\n",
       "    <tr>\n",
       "      <th>5</th>\n",
       "      <td>Адрес электронной почты</td>\n",
       "    </tr>\n",
       "    <tr>\n",
       "      <th>6</th>\n",
       "      <td>Согласие на обработку персональных данных</td>\n",
       "    </tr>\n",
       "    <tr>\n",
       "      <th>7</th>\n",
       "      <td>Custom HTML</td>\n",
       "    </tr>\n",
       "    <tr>\n",
       "      <th>8</th>\n",
       "      <td>Custom HTML.1</td>\n",
       "    </tr>\n",
       "    <tr>\n",
       "      <th>9</th>\n",
       "      <td>Название номера</td>\n",
       "    </tr>\n",
       "    <tr>\n",
       "      <th>10</th>\n",
       "      <td>Название коллектива и исполнители</td>\n",
       "    </tr>\n",
       "    <tr>\n",
       "      <th>11</th>\n",
       "      <td>Ссылка на запись Вашего выступления (YouTube, ...</td>\n",
       "    </tr>\n",
       "    <tr>\n",
       "      <th>12</th>\n",
       "      <td>Автор слов в Вашем выступлении</td>\n",
       "    </tr>\n",
       "    <tr>\n",
       "      <th>13</th>\n",
       "      <td>Custom HTML.2</td>\n",
       "    </tr>\n",
       "    <tr>\n",
       "      <th>14</th>\n",
       "      <td>Ссылка на запись Вашего выступления (YouTube, ...</td>\n",
       "    </tr>\n",
       "    <tr>\n",
       "      <th>15</th>\n",
       "      <td>Автор музыки в Вашем выступлении</td>\n",
       "    </tr>\n",
       "    <tr>\n",
       "      <th>16</th>\n",
       "      <td>Как Вы узнали о Гордеевском фестивале?</td>\n",
       "    </tr>\n",
       "    <tr>\n",
       "      <th>17</th>\n",
       "      <td>IP Address</td>\n",
       "    </tr>\n",
       "    <tr>\n",
       "      <th>18</th>\n",
       "      <td>Date</td>\n",
       "    </tr>\n",
       "  </tbody>\n",
       "</table>\n",
       "</div>"
      ],
      "text/plain": [
       "                                                 name\n",
       "0                                            Entry ID\n",
       "1                    Что для Вас есть авторская песня\n",
       "2                                       Страна, город\n",
       "3                                             Возраст\n",
       "4                              Место учёбы или работы\n",
       "5                             Адрес электронной почты\n",
       "6           Согласие на обработку персональных данных\n",
       "7                                         Custom HTML\n",
       "8                                       Custom HTML.1\n",
       "9                                     Название номера\n",
       "10                  Название коллектива и исполнители\n",
       "11  Ссылка на запись Вашего выступления (YouTube, ...\n",
       "12                     Автор слов в Вашем выступлении\n",
       "13                                      Custom HTML.2\n",
       "14  Ссылка на запись Вашего выступления (YouTube, ...\n",
       "15                   Автор музыки в Вашем выступлении\n",
       "16             Как Вы узнали о Гордеевском фестивале?\n",
       "17                                         IP Address\n",
       "18                                               Date"
      ]
     },
     "metadata": {},
     "output_type": "display_data"
    }
   ],
   "source": [
    "from xlsxwriter.utility import xl_col_to_name as xlsxed\n",
    "\n",
    "columns_choice = pd.DataFrame(csv_df.columns, columns=['name'])\n",
    "display(columns_choice)"
   ]
  },
  {
   "cell_type": "code",
   "execution_count": null,
   "metadata": {},
   "outputs": [
    {
     "name": "stdout",
     "output_type": "stream",
     "text": [
      "Columns 0 to 1 are a  A:B range.\n"
     ]
    }
   ],
   "source": [
    "column_1 = int(input('Enter first column:') or 0)\n",
    "column_2 = int(input('Enter last column:') or 1)\n",
    "\n",
    "x_col_1 = xlsxed(column_1)\n",
    "x_col_2 = xlsxed(column_2)\n",
    "\n",
    "print('Columns', column_1, 'to', column_2, 'are a ', x_col_1+':'+x_col_2, 'range.')"
   ]
  },
  {
   "cell_type": "markdown",
   "metadata": {},
   "source": [
    "# Pushing new rows"
   ]
  },
  {
   "cell_type": "code",
   "execution_count": null,
   "metadata": {},
   "outputs": [
    {
     "name": "stdout",
     "output_type": "stream",
     "text": [
      "Tables are in sync. No actions needed.\n"
     ]
    }
   ],
   "source": [
    "# Check if columns' list and labels matches -\n",
    "# this script would stop otherwise\n",
    "if csv_df.columns.all() == google_df.columns.all():\n",
    "    columns_len = len(csv_df.columns.all())\n",
    "    rows_len = google_len\n",
    "    # Check if our CSV has new rows over GSheets\n",
    "    if difference > 0:\n",
    "        print(\"They differ by \", difference, ' strings!')\n",
    "\n",
    "    # If yes, we push new lines to GSheets in a cycle\n",
    "        current_row = google_len + 1\n",
    "\n",
    "        for i in range(difference+1):\n",
    "            taken_row = csv_df.iloc[current_row-2].astype('str')\n",
    "            \n",
    "            # constructing an Excel-style pointer\n",
    "            diff_range = str(x_col_1 + str(current_row) + ':' + x_col_2 + str(current_row))\n",
    "            \n",
    "            # it double checks if'd write into an empty row\n",
    "            if google_sheet.sheet1.cell(current_row,1).value == None:\n",
    "                google_sheet.sheet1.update(values =\n",
    "                                        [taken_row.values.tolist()],\n",
    "                                        range_name = diff_range)\n",
    "            current_row+=1\n",
    "        print('Tables are in sync.')\n",
    "    \n",
    "    # If it's the oposite or they are equal,\n",
    "    # nothing would happen   \n",
    "    elif difference < 0:\n",
    "        print('Your CSV has less entries than Google Sheets. Wrong CSV?')\n",
    "    else: print('Tables are in sync. No actions needed.')\n",
    "\n",
    "else: print ('Column labels don\\'t match. Wrong tables?')"
   ]
  },
  {
   "attachments": {},
   "cell_type": "markdown",
   "metadata": {},
   "source": [
    "## END"
   ]
  },
  {
   "cell_type": "code",
   "execution_count": 7,
   "metadata": {},
   "outputs": [
    {
     "ename": "TypeError",
     "evalue": "unsupported operand type(s) for +: 'function' and 'function'",
     "output_type": "error",
     "traceback": [
      "\u001b[1;31m---------------------------------------------------------------------------\u001b[0m",
      "\u001b[1;31mTypeError\u001b[0m                                 Traceback (most recent call last)",
      "\u001b[1;32mc:\\SF\\WF2GSheets\\WF2GSheets\\WF2GSheets GUI.ipynb Cell 14\u001b[0m in \u001b[0;36m<cell line: 54>\u001b[1;34m()\u001b[0m\n\u001b[0;32m     <a href='vscode-notebook-cell:/c%3A/SF/WF2GSheets/WF2GSheets/WF2GSheets%20GUI.ipynb#X32sZmlsZQ%3D%3D?line=51'>52</a>\u001b[0m upload_csv_line \u001b[39m=\u001b[39m ttk\u001b[39m.\u001b[39mLabel(window, text\u001b[39m=\u001b[39mcsv_file)\n\u001b[0;32m     <a href='vscode-notebook-cell:/c%3A/SF/WF2GSheets/WF2GSheets/WF2GSheets%20GUI.ipynb#X32sZmlsZQ%3D%3D?line=52'>53</a>\u001b[0m upload_csv_line\u001b[39m.\u001b[39mgrid(column\u001b[39m=\u001b[39m\u001b[39m1\u001b[39m, row\u001b[39m=\u001b[39m\u001b[39m0\u001b[39m, sticky\u001b[39m=\u001b[39mtk\u001b[39m.\u001b[39mW, padx\u001b[39m=\u001b[39m\u001b[39m5\u001b[39m, pady\u001b[39m=\u001b[39m\u001b[39m5\u001b[39m)\n\u001b[1;32m---> <a href='vscode-notebook-cell:/c%3A/SF/WF2GSheets/WF2GSheets/WF2GSheets%20GUI.ipynb#X32sZmlsZQ%3D%3D?line=53'>54</a>\u001b[0m upload_csv_button \u001b[39m=\u001b[39m tk\u001b[39m.\u001b[39mButton(window, text\u001b[39m=\u001b[39m\u001b[39m'\u001b[39m\u001b[39mBrowse\u001b[39m\u001b[39m'\u001b[39m, command\u001b[39m=\u001b[39muploadCSV\u001b[39m+\u001b[39;49mupdateWindow)\n\u001b[0;32m     <a href='vscode-notebook-cell:/c%3A/SF/WF2GSheets/WF2GSheets/WF2GSheets%20GUI.ipynb#X32sZmlsZQ%3D%3D?line=54'>55</a>\u001b[0m upload_csv_button\u001b[39m.\u001b[39mgrid(column\u001b[39m=\u001b[39m\u001b[39m2\u001b[39m, row\u001b[39m=\u001b[39m\u001b[39m0\u001b[39m, sticky\u001b[39m=\u001b[39mtk\u001b[39m.\u001b[39mE, padx\u001b[39m=\u001b[39m\u001b[39m5\u001b[39m, pady\u001b[39m=\u001b[39m\u001b[39m5\u001b[39m)\n\u001b[0;32m     <a href='vscode-notebook-cell:/c%3A/SF/WF2GSheets/WF2GSheets/WF2GSheets%20GUI.ipynb#X32sZmlsZQ%3D%3D?line=57'>58</a>\u001b[0m upload_google_lable \u001b[39m=\u001b[39m ttk\u001b[39m.\u001b[39mLabel(window, text\u001b[39m=\u001b[39m\u001b[39m\"\u001b[39m\u001b[39mYour JSON file:\u001b[39m\u001b[39m\"\u001b[39m)\n",
      "\u001b[1;31mTypeError\u001b[0m: unsupported operand type(s) for +: 'function' and 'function'"
     ]
    }
   ],
   "source": [
    "import tkinter as tk\n",
    "from tkinter import ttk\n",
    "from tkinter import filedialog\n",
    "import settings as sets\n",
    "\n",
    "window = tk.Tk()\n",
    "\n",
    "csv_file = tk.StringVar()\n",
    "csv_file = sets.csv_file\n",
    "\n",
    "json_file = tk.StringVar()\n",
    "json_file = sets.json_file\n",
    "\n",
    "window.resizable(0, 0)\n",
    "window.title('CSV2GSheets')\n",
    "window.geometry('800x600')\n",
    "\n",
    "window.columnconfigure(0, weight=1)\n",
    "window.columnconfigure(1, weight=3)\n",
    "window.columnconfigure(2, weight=1)\n",
    "\n",
    "window.rowconfigure(0, weight=1)\n",
    "window.rowconfigure(1, weight=1)\n",
    "window.rowconfigure(2, weight=5)\n",
    "window.rowconfigure(3, weight=1)\n",
    "\n",
    "def uploadCSV(event=None):\n",
    "    filename = filedialog.askopenfilename(\n",
    "        initialdir=last_directory or 'sensitive/',\n",
    "        title=\"Open your CSV file\",\n",
    "        filetypes=((\"CSV files\", \"*.csv\"),))\n",
    "    # csv_file.set(filename)\n",
    "    window.update()\n",
    "\n",
    "def uploadJSON(event=None):\n",
    "    filename = filedialog.askopenfilename(\n",
    "        initialdir=last_directory or 'sensitive/',\n",
    "        title=\"Open your CSV file\",\n",
    "        filetypes=((\"CSV files\", \"*.csv\"),))\n",
    "    # json_file.set(filename)\n",
    "    window.update()\n",
    "\n",
    "def CloseWindow():\n",
    "    window.quit()\n",
    "    window.destroy()\n",
    "    \n",
    "def updateWindow():\n",
    "    window.update()\n",
    "\n",
    "upload_csv_lable = ttk.Label(window, text=\"Your CSV file:\")\n",
    "upload_csv_lable.grid(column=0, row=0, sticky=tk.W, padx=5, pady=5)\n",
    "upload_csv_line = ttk.Label(window, text=csv_file)\n",
    "upload_csv_line.grid(column=1, row=0, sticky=tk.W, padx=5, pady=5)\n",
    "upload_csv_button = tk.Button(window, text='Browse', command=uploadCSV+updateWindow)\n",
    "upload_csv_button.grid(column=2, row=0, sticky=tk.E, padx=5, pady=5)\n",
    "\n",
    "\n",
    "upload_google_lable = ttk.Label(window, text=\"Your JSON file:\")\n",
    "upload_google_lable.grid(column=0, row=1, sticky=tk.W, padx=5, pady=5)\n",
    "upload_google_line = ttk.Label(window, text=csv_file)\n",
    "upload_google_line.grid(column=1, row=1, sticky=tk.W, padx=5, pady=5)\n",
    "upload_google_button = tk.Button(window, text='Browse', command=uploadJSON+updateWindow)\n",
    "upload_google_button.grid(column=2, row=1, sticky=tk.E, padx=5, pady=5)\n",
    "\n",
    "close_button = tk.Button(window, text='Close', command=CloseWindow)\n",
    "close_button.grid(column=3, row=3, sticky=tk.SE, padx=5, pady=5)\n",
    "\n",
    "\n",
    "\n",
    "\n",
    "window.mainloop()"
   ]
  },
  {
   "cell_type": "code",
   "execution_count": null,
   "metadata": {},
   "outputs": [],
   "source": [
    "tf = filedialog.askopenfilename(\n",
    "        initialdir=\"C:/Users/MainFrame/Desktop/\", \n",
    "        title=\"Open Text file\", \n",
    "        filetypes=((\"Text Files\", \"*.txt\"),)\n",
    "        )"
   ]
  },
  {
   "cell_type": "code",
   "execution_count": null,
   "metadata": {},
   "outputs": [
    {
     "name": "stdout",
     "output_type": "stream",
     "text": [
      "\n"
     ]
    },
    {
     "ename": "NameError",
     "evalue": "name 'destroy' is not defined",
     "output_type": "error",
     "traceback": [
      "\u001b[1;31m---------------------------------------------------------------------------\u001b[0m",
      "\u001b[1;31mNameError\u001b[0m                                 Traceback (most recent call last)",
      "\u001b[1;32mc:\\SF\\WF2GSheets\\WF2GSheets\\WF2GSheets GUI.ipynb Cell 15\u001b[0m in \u001b[0;36m<cell line: 7>\u001b[1;34m()\u001b[0m\n\u001b[0;32m      <a href='vscode-notebook-cell:/c%3A/SF/WF2GSheets/WF2GSheets/WF2GSheets%20GUI.ipynb#X30sZmlsZQ%3D%3D?line=4'>5</a>\u001b[0m filename \u001b[39m=\u001b[39m askopenfilename() \u001b[39m# show an \"Open\" dialog box and return the path to the selected file\u001b[39;00m\n\u001b[0;32m      <a href='vscode-notebook-cell:/c%3A/SF/WF2GSheets/WF2GSheets/WF2GSheets%20GUI.ipynb#X30sZmlsZQ%3D%3D?line=5'>6</a>\u001b[0m \u001b[39mprint\u001b[39m(filename)\n\u001b[1;32m----> <a href='vscode-notebook-cell:/c%3A/SF/WF2GSheets/WF2GSheets/WF2GSheets%20GUI.ipynb#X30sZmlsZQ%3D%3D?line=6'>7</a>\u001b[0m destroy()\n\u001b[0;32m      <a href='vscode-notebook-cell:/c%3A/SF/WF2GSheets/WF2GSheets/WF2GSheets%20GUI.ipynb#X30sZmlsZQ%3D%3D?line=7'>8</a>\u001b[0m quit()\n",
      "\u001b[1;31mNameError\u001b[0m: name 'destroy' is not defined"
     ]
    }
   ],
   "source": [
    "from tkinter import Tk\n",
    "from tkinter.filedialog import askopenfilename\n",
    "\n",
    "Tk().withdraw() # we don't want a full GUI, so keep the root window from appearing\n",
    "filename = askopenfilename() # show an \"Open\" dialog box and return the path to the selected file\n",
    "print(filename)\n",
    "quit()"
   ]
  },
  {
   "cell_type": "code",
   "execution_count": null,
   "metadata": {},
   "outputs": [
    {
     "name": "stdout",
     "output_type": "stream",
     "text": [
      "C:/Users/admin/Documents/Diablo III/D3Prefs.txt\n"
     ]
    },
    {
     "ename": "AttributeError",
     "evalue": "type object 'Tk' has no attribute 'children'",
     "output_type": "error",
     "traceback": [
      "\u001b[1;31m---------------------------------------------------------------------------\u001b[0m",
      "\u001b[1;31mAttributeError\u001b[0m                            Traceback (most recent call last)",
      "\u001b[1;32mc:\\SF\\WF2GSheets\\WF2GSheets\\WF2GSheets GUI.ipynb Cell 15\u001b[0m in \u001b[0;36m<cell line: 12>\u001b[1;34m()\u001b[0m\n\u001b[0;32m      <a href='vscode-notebook-cell:/c%3A/SF/WF2GSheets/WF2GSheets/WF2GSheets%20GUI.ipynb#X31sZmlsZQ%3D%3D?line=7'>8</a>\u001b[0m         root\u001b[39m.\u001b[39mdestroy(root)\n\u001b[0;32m     <a href='vscode-notebook-cell:/c%3A/SF/WF2GSheets/WF2GSheets/WF2GSheets%20GUI.ipynb#X31sZmlsZQ%3D%3D?line=9'>10</a>\u001b[0m root \u001b[39m=\u001b[39m tk\u001b[39m.\u001b[39mTk\n\u001b[0;32m     <a href='vscode-notebook-cell:/c%3A/SF/WF2GSheets/WF2GSheets/WF2GSheets%20GUI.ipynb#X31sZmlsZQ%3D%3D?line=11'>12</a>\u001b[0m root\u001b[39m.\u001b[39mbutton_1 \u001b[39m=\u001b[39m tk\u001b[39m.\u001b[39mButton(text\u001b[39m=\u001b[39m\u001b[39m\"\u001b[39m\u001b[39mClick me!\u001b[39m\u001b[39m\"\u001b[39m,\n\u001b[0;32m     <a href='vscode-notebook-cell:/c%3A/SF/WF2GSheets/WF2GSheets/WF2GSheets%20GUI.ipynb#X31sZmlsZQ%3D%3D?line=12'>13</a>\u001b[0m     width\u001b[39m=\u001b[39m\u001b[39m25\u001b[39m,\n\u001b[0;32m     <a href='vscode-notebook-cell:/c%3A/SF/WF2GSheets/WF2GSheets/WF2GSheets%20GUI.ipynb#X31sZmlsZQ%3D%3D?line=13'>14</a>\u001b[0m     height\u001b[39m=\u001b[39m\u001b[39m50\u001b[39m,\n\u001b[0;32m     <a href='vscode-notebook-cell:/c%3A/SF/WF2GSheets/WF2GSheets/WF2GSheets%20GUI.ipynb#X31sZmlsZQ%3D%3D?line=14'>15</a>\u001b[0m     bg\u001b[39m=\u001b[39m\u001b[39m\"\u001b[39m\u001b[39mblue\u001b[39m\u001b[39m\"\u001b[39m,\n\u001b[0;32m     <a href='vscode-notebook-cell:/c%3A/SF/WF2GSheets/WF2GSheets/WF2GSheets%20GUI.ipynb#X31sZmlsZQ%3D%3D?line=15'>16</a>\u001b[0m     fg\u001b[39m=\u001b[39m\u001b[39m\"\u001b[39m\u001b[39myellow\u001b[39m\u001b[39m\"\u001b[39m,\n\u001b[1;32m---> <a href='vscode-notebook-cell:/c%3A/SF/WF2GSheets/WF2GSheets/WF2GSheets%20GUI.ipynb#X31sZmlsZQ%3D%3D?line=16'>17</a>\u001b[0m     command\u001b[39m=\u001b[39mget_file())\n\u001b[0;32m     <a href='vscode-notebook-cell:/c%3A/SF/WF2GSheets/WF2GSheets/WF2GSheets%20GUI.ipynb#X31sZmlsZQ%3D%3D?line=18'>19</a>\u001b[0m root\u001b[39m.\u001b[39mbutton_2 \u001b[39m=\u001b[39m tk\u001b[39m.\u001b[39mButton(root, text\u001b[39m=\u001b[39m\u001b[39m\"\u001b[39m\u001b[39mQuit\u001b[39m\u001b[39m\"\u001b[39m, command\u001b[39m=\u001b[39m\u001b[39mlambda\u001b[39;00m root\u001b[39m=\u001b[39mroot:quit())\u001b[39m.\u001b[39mpack()\n\u001b[0;32m     <a href='vscode-notebook-cell:/c%3A/SF/WF2GSheets/WF2GSheets/WF2GSheets%20GUI.ipynb#X31sZmlsZQ%3D%3D?line=20'>21</a>\u001b[0m root\u001b[39m.\u001b[39mmainloop()\n",
      "\u001b[1;32mc:\\SF\\WF2GSheets\\WF2GSheets\\WF2GSheets GUI.ipynb Cell 15\u001b[0m in \u001b[0;36mget_file\u001b[1;34m()\u001b[0m\n\u001b[0;32m      <a href='vscode-notebook-cell:/c%3A/SF/WF2GSheets/WF2GSheets/WF2GSheets%20GUI.ipynb#X31sZmlsZQ%3D%3D?line=5'>6</a>\u001b[0m \u001b[39mif\u001b[39;00m file:\n\u001b[0;32m      <a href='vscode-notebook-cell:/c%3A/SF/WF2GSheets/WF2GSheets/WF2GSheets%20GUI.ipynb#X31sZmlsZQ%3D%3D?line=6'>7</a>\u001b[0m     \u001b[39mprint\u001b[39m(file\u001b[39m.\u001b[39mname)\n\u001b[1;32m----> <a href='vscode-notebook-cell:/c%3A/SF/WF2GSheets/WF2GSheets/WF2GSheets%20GUI.ipynb#X31sZmlsZQ%3D%3D?line=7'>8</a>\u001b[0m     root\u001b[39m.\u001b[39;49mdestroy(root)\n",
      "File \u001b[1;32mc:\\Python\\Python39\\lib\\tkinter\\__init__.py:2311\u001b[0m, in \u001b[0;36mTk.destroy\u001b[1;34m(self)\u001b[0m\n\u001b[0;32m   2308\u001b[0m \u001b[39mdef\u001b[39;00m \u001b[39mdestroy\u001b[39m(\u001b[39mself\u001b[39m):\n\u001b[0;32m   2309\u001b[0m     \u001b[39m\"\"\"Destroy this and all descendants widgets. This will\u001b[39;00m\n\u001b[0;32m   2310\u001b[0m \u001b[39m    end the application of this Tcl interpreter.\"\"\"\u001b[39;00m\n\u001b[1;32m-> 2311\u001b[0m     \u001b[39mfor\u001b[39;00m c \u001b[39min\u001b[39;00m \u001b[39mlist\u001b[39m(\u001b[39mself\u001b[39;49m\u001b[39m.\u001b[39;49mchildren\u001b[39m.\u001b[39mvalues()): c\u001b[39m.\u001b[39mdestroy()\n\u001b[0;32m   2312\u001b[0m     \u001b[39mself\u001b[39m\u001b[39m.\u001b[39mtk\u001b[39m.\u001b[39mcall(\u001b[39m'\u001b[39m\u001b[39mdestroy\u001b[39m\u001b[39m'\u001b[39m, \u001b[39mself\u001b[39m\u001b[39m.\u001b[39m_w)\n\u001b[0;32m   2313\u001b[0m     Misc\u001b[39m.\u001b[39mdestroy(\u001b[39mself\u001b[39m)\n",
      "\u001b[1;31mAttributeError\u001b[0m: type object 'Tk' has no attribute 'children'"
     ]
    },
    {
     "ename": "",
     "evalue": "",
     "output_type": "error",
     "traceback": [
      "\u001b[1;31mThe Kernel crashed while executing code in the the current cell or a previous cell. Please review the code in the cell(s) to identify a possible cause of the failure. Click <a href='https://aka.ms/vscodeJupyterKernelCrash'>here</a> for more info. View Jupyter <a href='command:jupyter.viewOutput'>log</a> for further details."
     ]
    }
   ],
   "source": [
    "import tkinter as tk\n",
    "from tkinter import filedialog as fd\n",
    "\n",
    "def get_file():\n",
    "    file = fd.askopenfile()\n",
    "    if file:\n",
    "        print(file.name)\n",
    "        root.destroy(root)\n",
    "\n",
    "root = tk.Tk\n",
    "\n",
    "root.button_1 = tk.Button(text=\"Click me!\",\n",
    "    width=25,\n",
    "    height=50,\n",
    "    bg=\"blue\",\n",
    "    fg=\"yellow\",\n",
    "    command=get_file())\n",
    "\n",
    "root.button_2 = tk.Button(root, text=\"Quit\", command=lambda root=root:quit()).pack()\n",
    "\n",
    "root.mainloop()"
   ]
  },
  {
   "cell_type": "code",
   "execution_count": null,
   "metadata": {},
   "outputs": [
    {
     "ename": "",
     "evalue": "",
     "output_type": "error",
     "traceback": [
      "\u001b[1;31mThe Kernel crashed while executing code in the the current cell or a previous cell. Please review the code in the cell(s) to identify a possible cause of the failure. Click <a href='https://aka.ms/vscodeJupyterKernelCrash'>here</a> for more info. View Jupyter <a href='command:jupyter.viewOutput'>log</a> for further details."
     ]
    }
   ],
   "source": [
    "import tkinter as tk\n",
    "\n",
    "def kill(x):\n",
    "    x.quit()\n",
    "    x.destroy()\n",
    "    \n",
    "def quit(self):\n",
    "    self.destroy()\n",
    "    exit()\n",
    "\n",
    "root = tk.Tk()\n",
    "button = tk.Button(\n",
    "    text=\"Click me!\",\n",
    "    width=25,\n",
    "    height=50,\n",
    "    bg=\"blue\",\n",
    "    fg=\"yellow\",\n",
    "    command=quit(root)\n",
    ")\n",
    "greeting = tk.Label(text=\"Hello, Tkinter\")\n",
    "greeting.pack()\n",
    "button.pack()\n",
    "\n",
    "root.mainloop()"
   ]
  },
  {
   "cell_type": "code",
   "execution_count": null,
   "metadata": {},
   "outputs": [],
   "source": [
    "\n",
    "from tkinter import Tk, Label\n",
    "root = Tk()\n",
    "w = Label(root, text=\"Hello, world!\")\n",
    "w.pack()\n",
    "root.mainloop()"
   ]
  },
  {
   "cell_type": "code",
   "execution_count": null,
   "metadata": {},
   "outputs": [],
   "source": [
    "import pandas as pd\n",
    "import numpy as np\n",
    "import sys \n",
    "from tkinter import * \n",
    "root = Tk()\n",
    "root.geometry('580x250')\n",
    "dates = pd.date_range('20210101', periods=8)\n",
    "dframe = pd.DataFrame(np.random.randn(8,4),index=dates,columns=list('ABCD'))\n",
    "txt = Text(root)\n",
    "txt.pack()\n",
    "\n",
    "class PrintToTXT(object): \n",
    "    def write(self, s):\n",
    "        txt.insert(END, s)\n",
    "\n",
    "sys.stdout = PrintToTXT()\n",
    "\n",
    "print ('Pandas date range of 8 values in 1 timestamp column adjacent to a numpy random float array of 8 rows and 4 columns, displayed in a Tkinter table') \n",
    "print (dframe)\n",
    "root.mainloop()"
   ]
  },
  {
   "cell_type": "code",
   "execution_count": null,
   "metadata": {},
   "outputs": [],
   "source": [
    "import tkinter as tk\n",
    "\n",
    "window = tk.Tk()\n",
    "\n",
    "frame_a = tk.Frame()\n",
    "frame_b = tk.Frame()\n",
    "\n",
    "label_a = tk.Label(master=frame_a, text=\"I'm in Frame A\")\n",
    "label_a.pack()\n",
    "\n",
    "label_b = tk.Label(master=frame_b, text=\"I'm in Frame B\")\n",
    "label_b.pack()\n",
    "\n",
    "frame_a.pack()\n",
    "frame_b.pack()\n",
    "\n",
    "window.mainloop()\n"
   ]
  },
  {
   "cell_type": "code",
   "execution_count": null,
   "metadata": {},
   "outputs": [],
   "source": [
    "from tkinter import *\n",
    "window=tk.Tk()\n",
    "\n",
    "# add widgets here\n",
    "v1 = IntVar()\n",
    "v2 = IntVar()\n",
    "C1 = Checkbutton(window, text = \"Cricket\", variable = v1)\n",
    "C2 = Checkbutton(window, text = \"Tennis\", variable = v2)\n",
    "C1.place(x=100, y=100)\n",
    "C2.place(x=180, y=100)\n",
    "\n",
    "window.title('Hello Python')\n",
    "window.geometry(\"300x200\")\n",
    "window.mainloop()\n",
    "\n",
    "if v1 == True:\n",
    "    print('yep')"
   ]
  },
  {
   "cell_type": "code",
   "execution_count": null,
   "metadata": {},
   "outputs": [],
   "source": [
    "from tkinter import *\n",
    "class MyWindow:\n",
    "    def __init__(self, win):\n",
    "        self.lbl1=Label(win, text='First number')\n",
    "        self.lbl2=Label(win, text='Second number')\n",
    "        self.lbl3=Label(win, text='Result')\n",
    "        self.t1=Entry(bd=3)\n",
    "        self.t2=Entry()\n",
    "        self.t3=Entry()\n",
    "        self.btn1 = Button(win, text='Add')\n",
    "        self.btn2=Button(win, text='Subtract')\n",
    "        self.lbl1.place(x=100, y=50)\n",
    "        self.t1.place(x=200, y=50)\n",
    "        self.lbl2.place(x=100, y=100)\n",
    "        self.t2.place(x=200, y=100)\n",
    "        self.b1=Button(win, text='Add', command=self.add)\n",
    "        self.b2=Button(win, text='Subtract')\n",
    "        self.b2.bind('<Button-1>', self.sub)\n",
    "        self.b1.place(x=100, y=150)\n",
    "        self.b2.place(x=200, y=150)\n",
    "        self.lbl3.place(x=100, y=200)\n",
    "        self.t3.place(x=200, y=200)\n",
    "    def add(self):\n",
    "        self.t3.delete(0, 'end')\n",
    "        num1=int(self.t1.get())\n",
    "        num2=int(self.t2.get())\n",
    "        result=num1+num2\n",
    "        self.t3.insert(END, str(result))\n",
    "    def sub(self, event):\n",
    "        self.t3.delete(0, 'end')\n",
    "        num1=int(self.t1.get())\n",
    "        num2=int(self.t2.get())\n",
    "        result=num1-num2\n",
    "        self.t3.insert(END, str(result))\n",
    "\n",
    "window=Tk()\n",
    "mywin=MyWindow(window)\n",
    "window.title('Hello Python')\n",
    "window.geometry(\"400x300\")\n",
    "window.mainloop()"
   ]
  },
  {
   "cell_type": "code",
   "execution_count": null,
   "metadata": {},
   "outputs": [],
   "source": [
    "# # Check if columns' list and labels matches -\n",
    "# # this script would stop otherwise\n",
    "# if csv_df.columns.all() == google_df.columns.all():\n",
    "    \n",
    "\n",
    "#     # Check if our CSV has new rows over GSheets\n",
    "#     if difference > 0:\n",
    "#         print(\"They differ by \", difference, ' strings!')\n",
    "\n",
    "#     # If yes, we push new lines to GSheets in a cycle\n",
    "#         current_row = google_len + 1\n",
    "\n",
    "#         for i in range(difference+1):\n",
    "#             taken_row = csv_df.iloc[current_row-2].astype('str')\n",
    "            \n",
    "#             # constructing an Excel-style pointer\n",
    "#             diff_range = str('A' + str(current_row) + ':S' + str(current_row))\n",
    "            \n",
    "#             # it double checks if'd write into an empty row\n",
    "#             if google_sheet.sheet1.cell(current_row,1).value == None:\n",
    "#                 google_sheet.sheet1.update(values =\n",
    "#                                         [taken_row.values.tolist()],\n",
    "#                                         range_name = diff_range)\n",
    "#             current_row+=1\n",
    "#         print('Tables are in sync.')\n",
    "    \n",
    "#     # If it's the oposite or they are equal,\n",
    "#     # nothing would happen   \n",
    "#     elif difference < 0:\n",
    "#         print('Your CSV has less entries than Google Sheets. Wrong SCV?')\n",
    "#     else: print('Tables are in sync. No actions needed.')\n",
    "\n",
    "# else: print ('Column labels don\\'t match. Wrong tables?')"
   ]
  }
 ],
 "metadata": {
  "kernelspec": {
   "display_name": "Python 3",
   "language": "python",
   "name": "python3"
  },
  "language_info": {
   "codemirror_mode": {
    "name": "ipython",
    "version": 3
   },
   "file_extension": ".py",
   "mimetype": "text/x-python",
   "name": "python",
   "nbconvert_exporter": "python",
   "pygments_lexer": "ipython3",
   "version": "3.9.13"
  },
  "orig_nbformat": 4
 },
 "nbformat": 4,
 "nbformat_minor": 2
}
